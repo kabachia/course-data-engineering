{
 "cells": [
  {
   "cell_type": "code",
   "execution_count": 1,
   "id": "398b651b-1862-4e02-9e8f-89b6bf276ba3",
   "metadata": {},
   "outputs": [],
   "source": [
    "import pyspark\n",
    "from pyspark.sql import SparkSession"
   ]
  },
  {
   "cell_type": "code",
   "execution_count": 2,
   "id": "757d0b83-d196-4027-be9d-6a940f13beea",
   "metadata": {},
   "outputs": [
    {
     "name": "stderr",
     "output_type": "stream",
     "text": [
      "WARNING: An illegal reflective access operation has occurred\n",
      "WARNING: Illegal reflective access by org.apache.spark.unsafe.Platform (file:/opt/spark/jars/spark-unsafe_2.12-3.2.1.jar) to constructor java.nio.DirectByteBuffer(long,int)\n",
      "WARNING: Please consider reporting this to the maintainers of org.apache.spark.unsafe.Platform\n",
      "WARNING: Use --illegal-access=warn to enable warnings of further illegal reflective access operations\n",
      "WARNING: All illegal access operations will be denied in a future release\n",
      "Using Spark's default log4j profile: org/apache/spark/log4j-defaults.properties\n",
      "Setting default log level to \"WARN\".\n",
      "To adjust logging level use sc.setLogLevel(newLevel). For SparkR, use setLogLevel(newLevel).\n",
      "22/03/04 11:41:00 WARN NativeCodeLoader: Unable to load native-hadoop library for your platform... using builtin-java classes where applicable\n"
     ]
    }
   ],
   "source": [
    "spark = SparkSession.builder\\\n",
    "        .master(\"local[*]\")\\\n",
    "        .appName('test')\\\n",
    "        .getOrCreate()"
   ]
  },
  {
   "cell_type": "code",
   "execution_count": 3,
   "id": "bb6a246a-5747-4a45-8d39-dfdafef006bf",
   "metadata": {},
   "outputs": [
    {
     "data": {
      "text/plain": [
       "'3.2.1'"
      ]
     },
     "execution_count": 3,
     "metadata": {},
     "output_type": "execute_result"
    }
   ],
   "source": [
    "spark.version"
   ]
  },
  {
   "cell_type": "code",
   "execution_count": 4,
   "id": "89c7917f-8c8e-4dd2-82ec-8607393a9569",
   "metadata": {},
   "outputs": [
    {
     "name": "stdout",
     "output_type": "stream",
     "text": [
      "--2022-03-04 11:41:03--  https://nyc-tlc.s3.amazonaws.com/trip+data/fhvhv_tripdata_2021-02.csv\n",
      "Resolving nyc-tlc.s3.amazonaws.com (nyc-tlc.s3.amazonaws.com)... 52.216.154.164\n",
      "Connecting to nyc-tlc.s3.amazonaws.com (nyc-tlc.s3.amazonaws.com)|52.216.154.164|:443... connected.\n",
      "HTTP request sent, awaiting response... 200 OK\n",
      "Length: 733822658 (700M) [text/csv]\n",
      "Saving to: ‘fhvhv_tripdata_2021-02.csv.1’\n",
      "\n",
      "fhvhv_tripdata_2021 100%[===================>] 699.83M  36.2MB/s    in 20s     \n",
      "\n",
      "2022-03-04 11:41:24 (34.7 MB/s) - ‘fhvhv_tripdata_2021-02.csv.1’ saved [733822658/733822658]\n",
      "\n"
     ]
    }
   ],
   "source": [
    "!wget https://nyc-tlc.s3.amazonaws.com/trip+data/fhvhv_tripdata_2021-02.csv"
   ]
  },
  {
   "cell_type": "code",
   "execution_count": 5,
   "id": "fdbcb470-e64f-4833-9f2f-fb40a7def85b",
   "metadata": {},
   "outputs": [],
   "source": [
    "import pandas as pd"
   ]
  },
  {
   "cell_type": "code",
   "execution_count": 6,
   "id": "65e5c945-35a4-4c8c-9a6d-395ab9769413",
   "metadata": {},
   "outputs": [],
   "source": [
    "df_temp = pd.read_csv('fhvhv_tripdata_2021-02.csv')"
   ]
  },
  {
   "cell_type": "code",
   "execution_count": 7,
   "id": "f5c54026-2f11-4d0e-991c-5121a98deadf",
   "metadata": {},
   "outputs": [
    {
     "data": {
      "text/plain": [
       "StructType(List(StructField(hvfhs_license_num,StringType,true),StructField(dispatching_base_num,StringType,true),StructField(pickup_datetime,StringType,true),StructField(dropoff_datetime,StringType,true),StructField(PULocationID,LongType,true),StructField(DOLocationID,LongType,true),StructField(SR_Flag,DoubleType,true)))"
      ]
     },
     "execution_count": 7,
     "metadata": {},
     "output_type": "execute_result"
    }
   ],
   "source": [
    "spark.createDataFrame(df_temp).schema"
   ]
  },
  {
   "cell_type": "code",
   "execution_count": 10,
   "id": "675e20f0-5c5e-4235-89f2-4e8e1cd70372",
   "metadata": {},
   "outputs": [],
   "source": [
    "from pyspark.sql import types"
   ]
  },
  {
   "cell_type": "code",
   "execution_count": 12,
   "id": "43832120-1c93-4975-9117-d7719959538e",
   "metadata": {},
   "outputs": [],
   "source": [
    "schema = types.StructType([\n",
    "    types.StructField('hvfhs_license_num',types.StringType(),True),\n",
    "    types.StructField('dispatching_base_num',types.StringType(),True),\n",
    "    types.StructField('pickup_datetime',types.StringType(),True),\n",
    "    types.StructField('dropoff_datetime',types.StringType(),True),\n",
    "    types.StructField('PULocationID',types.IntegerType(),True),\n",
    "    types.StructField('DOLocationID',types.IntegerType(),True),\n",
    "    types.StructField('SR_Flag',types.StringType(),True)\n",
    "])"
   ]
  },
  {
   "cell_type": "code",
   "execution_count": 13,
   "id": "cf862e33-3620-49bb-a6e3-bdafa7ee015c",
   "metadata": {},
   "outputs": [],
   "source": [
    "df = spark.read\\\n",
    "    .option(\"header\",\"true\")\\\n",
    "    .schema(schema)\\\n",
    "    .csv('fhvhv_tripdata_2021-02.csv')"
   ]
  },
  {
   "cell_type": "code",
   "execution_count": 14,
   "id": "7c4b5513-14d8-4f28-8c37-fc8f1cd5906c",
   "metadata": {},
   "outputs": [],
   "source": [
    "df = df.repartition(24)"
   ]
  },
  {
   "cell_type": "code",
   "execution_count": 15,
   "id": "68214f80-39ab-41cb-bf3e-de51a7d7a9a2",
   "metadata": {},
   "outputs": [
    {
     "name": "stderr",
     "output_type": "stream",
     "text": [
      "                                                                                \r"
     ]
    }
   ],
   "source": [
    "df.write.parquet('fhvhv')"
   ]
  },
  {
   "cell_type": "code",
   "execution_count": 16,
   "id": "90384b70-3580-4fb9-997f-abe001d4801f",
   "metadata": {},
   "outputs": [
    {
     "name": "stdout",
     "output_type": "stream",
     "text": [
      "total 208M\n",
      "-rw-r--r-- 1 kabachia kabachia    0 Mar  4 12:14 _SUCCESS\n",
      "-rw-r--r-- 1 kabachia kabachia 8.7M Mar  4 12:14 part-00000-8ec01745-8ffe-452d-9bc2-c003cd8ade96-c000.snappy.parquet\n",
      "-rw-r--r-- 1 kabachia kabachia 8.7M Mar  4 12:14 part-00001-8ec01745-8ffe-452d-9bc2-c003cd8ade96-c000.snappy.parquet\n",
      "-rw-r--r-- 1 kabachia kabachia 8.7M Mar  4 12:14 part-00002-8ec01745-8ffe-452d-9bc2-c003cd8ade96-c000.snappy.parquet\n",
      "-rw-r--r-- 1 kabachia kabachia 8.7M Mar  4 12:14 part-00003-8ec01745-8ffe-452d-9bc2-c003cd8ade96-c000.snappy.parquet\n",
      "-rw-r--r-- 1 kabachia kabachia 8.7M Mar  4 12:14 part-00004-8ec01745-8ffe-452d-9bc2-c003cd8ade96-c000.snappy.parquet\n",
      "-rw-r--r-- 1 kabachia kabachia 8.7M Mar  4 12:14 part-00005-8ec01745-8ffe-452d-9bc2-c003cd8ade96-c000.snappy.parquet\n",
      "-rw-r--r-- 1 kabachia kabachia 8.7M Mar  4 12:14 part-00006-8ec01745-8ffe-452d-9bc2-c003cd8ade96-c000.snappy.parquet\n",
      "-rw-r--r-- 1 kabachia kabachia 8.7M Mar  4 12:14 part-00007-8ec01745-8ffe-452d-9bc2-c003cd8ade96-c000.snappy.parquet\n",
      "-rw-r--r-- 1 kabachia kabachia 8.7M Mar  4 12:14 part-00008-8ec01745-8ffe-452d-9bc2-c003cd8ade96-c000.snappy.parquet\n",
      "-rw-r--r-- 1 kabachia kabachia 8.7M Mar  4 12:14 part-00009-8ec01745-8ffe-452d-9bc2-c003cd8ade96-c000.snappy.parquet\n",
      "-rw-r--r-- 1 kabachia kabachia 8.7M Mar  4 12:14 part-00010-8ec01745-8ffe-452d-9bc2-c003cd8ade96-c000.snappy.parquet\n",
      "-rw-r--r-- 1 kabachia kabachia 8.7M Mar  4 12:14 part-00011-8ec01745-8ffe-452d-9bc2-c003cd8ade96-c000.snappy.parquet\n",
      "-rw-r--r-- 1 kabachia kabachia 8.7M Mar  4 12:14 part-00012-8ec01745-8ffe-452d-9bc2-c003cd8ade96-c000.snappy.parquet\n",
      "-rw-r--r-- 1 kabachia kabachia 8.7M Mar  4 12:14 part-00013-8ec01745-8ffe-452d-9bc2-c003cd8ade96-c000.snappy.parquet\n",
      "-rw-r--r-- 1 kabachia kabachia 8.7M Mar  4 12:14 part-00014-8ec01745-8ffe-452d-9bc2-c003cd8ade96-c000.snappy.parquet\n",
      "-rw-r--r-- 1 kabachia kabachia 8.7M Mar  4 12:14 part-00015-8ec01745-8ffe-452d-9bc2-c003cd8ade96-c000.snappy.parquet\n",
      "-rw-r--r-- 1 kabachia kabachia 8.7M Mar  4 12:14 part-00016-8ec01745-8ffe-452d-9bc2-c003cd8ade96-c000.snappy.parquet\n",
      "-rw-r--r-- 1 kabachia kabachia 8.7M Mar  4 12:14 part-00017-8ec01745-8ffe-452d-9bc2-c003cd8ade96-c000.snappy.parquet\n",
      "-rw-r--r-- 1 kabachia kabachia 8.7M Mar  4 12:14 part-00018-8ec01745-8ffe-452d-9bc2-c003cd8ade96-c000.snappy.parquet\n",
      "-rw-r--r-- 1 kabachia kabachia 8.7M Mar  4 12:14 part-00019-8ec01745-8ffe-452d-9bc2-c003cd8ade96-c000.snappy.parquet\n",
      "-rw-r--r-- 1 kabachia kabachia 8.7M Mar  4 12:14 part-00020-8ec01745-8ffe-452d-9bc2-c003cd8ade96-c000.snappy.parquet\n",
      "-rw-r--r-- 1 kabachia kabachia 8.7M Mar  4 12:14 part-00021-8ec01745-8ffe-452d-9bc2-c003cd8ade96-c000.snappy.parquet\n",
      "-rw-r--r-- 1 kabachia kabachia 8.7M Mar  4 12:14 part-00022-8ec01745-8ffe-452d-9bc2-c003cd8ade96-c000.snappy.parquet\n",
      "-rw-r--r-- 1 kabachia kabachia 8.7M Mar  4 12:14 part-00023-8ec01745-8ffe-452d-9bc2-c003cd8ade96-c000.snappy.parquet\n"
     ]
    }
   ],
   "source": [
    "!ls -lh fhvhv"
   ]
  },
  {
   "cell_type": "code",
   "execution_count": 19,
   "id": "5be115b5-d257-4749-b5db-8f56f879dfbb",
   "metadata": {},
   "outputs": [
    {
     "data": {
      "text/plain": [
       "['hvfhs_license_num',\n",
       " 'dispatching_base_num',\n",
       " 'pickup_datetime',\n",
       " 'dropoff_datetime',\n",
       " 'PULocationID',\n",
       " 'DOLocationID',\n",
       " 'SR_Flag']"
      ]
     },
     "execution_count": 19,
     "metadata": {},
     "output_type": "execute_result"
    }
   ],
   "source": [
    "df.columns"
   ]
  },
  {
   "cell_type": "code",
   "execution_count": 20,
   "id": "789be259-5f3f-4788-a639-cb458d0552a6",
   "metadata": {},
   "outputs": [
    {
     "name": "stderr",
     "output_type": "stream",
     "text": [
      "/opt/spark/python/pyspark/sql/dataframe.py:138: FutureWarning: Deprecated in 2.0, use createOrReplaceTempView instead.\n",
      "  warnings.warn(\n"
     ]
    }
   ],
   "source": [
    "df.registerTempTable('fhvhv_data')"
   ]
  },
  {
   "cell_type": "code",
   "execution_count": 22,
   "id": "e9477928-a99d-4dca-921a-de09badf0929",
   "metadata": {},
   "outputs": [
    {
     "name": "stderr",
     "output_type": "stream",
     "text": [
      "[Stage 8:=================================================>         (5 + 1) / 6]\r"
     ]
    },
    {
     "name": "stdout",
     "output_type": "stream",
     "text": [
      "+---------------+\n",
      "|pickup_datetime|\n",
      "+---------------+\n",
      "|     2021-02-06|\n",
      "|     2021-02-05|\n",
      "|     2021-02-04|\n",
      "|     2021-02-02|\n",
      "|     2021-02-03|\n",
      "|     2021-02-04|\n",
      "|     2021-02-01|\n",
      "|     2021-02-04|\n",
      "|     2021-02-03|\n",
      "|     2021-02-06|\n",
      "+---------------+\n",
      "\n"
     ]
    },
    {
     "name": "stderr",
     "output_type": "stream",
     "text": [
      "                                                                                \r"
     ]
    }
   ],
   "source": [
    "spark.sql(\"\"\"\n",
    "SELECT\n",
    "    CAST(pickup_datetime AS DATE)\n",
    "FROM \n",
    "    fhvhv_data\n",
    "LIMIT 10\n",
    "\"\"\").show()"
   ]
  },
  {
   "cell_type": "code",
   "execution_count": 23,
   "id": "1ad77dc3-bcca-4179-95ac-8346c5dcbd22",
   "metadata": {},
   "outputs": [
    {
     "name": "stderr",
     "output_type": "stream",
     "text": [
      "[Stage 14:================================================>         (5 + 1) / 6]\r"
     ]
    },
    {
     "name": "stdout",
     "output_type": "stream",
     "text": [
      "+--------+\n",
      "|count(1)|\n",
      "+--------+\n",
      "|  367170|\n",
      "+--------+\n",
      "\n"
     ]
    },
    {
     "name": "stderr",
     "output_type": "stream",
     "text": [
      "                                                                                \r"
     ]
    }
   ],
   "source": [
    "spark.sql(\"\"\"\n",
    "SELECT\n",
    "    count(1)\n",
    "FROM \n",
    "    fhvhv_data\n",
    "WHERE\n",
    "    CAST(pickup_datetime AS DATE) = '2021-02-15'\n",
    "\"\"\").show()"
   ]
  },
  {
   "cell_type": "code",
   "execution_count": 26,
   "id": "469fd537-3c99-4b31-891e-20cbd5764377",
   "metadata": {},
   "outputs": [
    {
     "name": "stderr",
     "output_type": "stream",
     "text": [
      "[Stage 26:================================================>         (5 + 1) / 6]\r"
     ]
    },
    {
     "name": "stdout",
     "output_type": "stream",
     "text": [
      "+-------------------+-------------------+--------+\n",
      "|    pickup_datetime|   dropoff_datetime|duration|\n",
      "+-------------------+-------------------+--------+\n",
      "|2021-02-05 14:23:17|2021-02-05 14:45:43|    1346|\n",
      "|2021-02-01 06:02:37|2021-02-01 06:28:31|    1554|\n",
      "|2021-02-01 16:42:47|2021-02-01 16:54:55|     728|\n",
      "|2021-02-02 08:35:38|2021-02-02 08:52:48|    1030|\n",
      "|2021-02-06 05:50:27|2021-02-06 06:20:08|    1781|\n",
      "|2021-02-06 13:35:24|2021-02-06 14:06:37|    1873|\n",
      "|2021-02-03 16:34:15|2021-02-03 16:57:57|    1422|\n",
      "|2021-02-02 08:13:56|2021-02-02 08:25:53|     717|\n",
      "|2021-02-04 18:03:52|2021-02-04 18:16:44|     772|\n",
      "|2021-02-04 10:43:20|2021-02-04 11:00:28|    1028|\n",
      "+-------------------+-------------------+--------+\n",
      "\n"
     ]
    },
    {
     "name": "stderr",
     "output_type": "stream",
     "text": [
      "                                                                                \r"
     ]
    }
   ],
   "source": [
    "spark.sql(\"\"\"\n",
    "SELECT\n",
    "    pickup_datetime,\n",
    "    dropoff_datetime,\n",
    "    unix_timestamp(dropoff_datetime) - unix_timestamp(pickup_datetime) duration\n",
    "FROM \n",
    "    fhvhv_data\n",
    "LIMIT 10\n",
    "\"\"\").show()"
   ]
  },
  {
   "cell_type": "code",
   "execution_count": 28,
   "id": "24762541-754b-41d7-8e85-411450500cdf",
   "metadata": {},
   "outputs": [
    {
     "name": "stderr",
     "output_type": "stream",
     "text": [
      "[Stage 40:=====================================================>  (23 + 1) / 24]\r"
     ]
    },
    {
     "name": "stdout",
     "output_type": "stream",
     "text": [
      "+----------+-------------+\n",
      "|     _date|trip_duration|\n",
      "+----------+-------------+\n",
      "|2021-02-11|        75540|\n",
      "|2021-02-17|        57221|\n",
      "|2021-02-20|        44039|\n",
      "|2021-02-03|        40653|\n",
      "|2021-02-19|        37577|\n",
      "|2021-02-25|        35010|\n",
      "|2021-02-18|        34612|\n",
      "|2021-02-10|        34169|\n",
      "|2021-02-21|        32223|\n",
      "|2021-02-09|        32087|\n",
      "|2021-02-06|        31447|\n",
      "|2021-02-02|        30913|\n",
      "|2021-02-05|        30511|\n",
      "|2021-02-12|        30148|\n",
      "|2021-02-08|        30106|\n",
      "|2021-02-14|        29777|\n",
      "|2021-02-22|        28278|\n",
      "|2021-02-27|        27170|\n",
      "|2021-02-15|        25874|\n",
      "|2021-02-04|        25592|\n",
      "+----------+-------------+\n",
      "only showing top 20 rows\n",
      "\n"
     ]
    },
    {
     "name": "stderr",
     "output_type": "stream",
     "text": [
      "                                                                                \r"
     ]
    }
   ],
   "source": [
    "spark.sql(\"\"\"\n",
    "SELECT\n",
    "    CAST(pickup_datetime AS DATE) _date,\n",
    "    MAX(unix_timestamp(dropoff_datetime) - unix_timestamp(pickup_datetime)) trip_duration \n",
    "FROM \n",
    "    fhvhv_data\n",
    "GROUP BY\n",
    "    _date\n",
    "ORDER BY\n",
    "    trip_duration DESC\n",
    "\"\"\").show()"
   ]
  },
  {
   "cell_type": "code",
   "execution_count": 29,
   "id": "a542d62e-6499-47cb-885f-f1de82d5ca90",
   "metadata": {},
   "outputs": [
    {
     "name": "stderr",
     "output_type": "stream",
     "text": [
      "[Stage 46:=================================================>      (21 + 3) / 24]\r"
     ]
    },
    {
     "name": "stdout",
     "output_type": "stream",
     "text": [
      "+-------+--------------------+\n",
      "|    cnt|dispatching_base_num|\n",
      "+-------+--------------------+\n",
      "|3233664|              B02510|\n",
      "| 965568|              B02764|\n",
      "| 882689|              B02872|\n",
      "| 685390|              B02875|\n",
      "| 559768|              B02765|\n",
      "| 429720|              B02869|\n",
      "| 322331|              B02887|\n",
      "| 312364|              B02871|\n",
      "| 311603|              B02864|\n",
      "| 311089|              B02866|\n",
      "| 305185|              B02878|\n",
      "| 303255|              B02682|\n",
      "| 274510|              B02617|\n",
      "| 251617|              B02883|\n",
      "| 244963|              B02884|\n",
      "| 232173|              B02882|\n",
      "| 215693|              B02876|\n",
      "| 210137|              B02879|\n",
      "| 200530|              B02867|\n",
      "| 198938|              B02877|\n",
      "+-------+--------------------+\n",
      "only showing top 20 rows\n",
      "\n"
     ]
    },
    {
     "name": "stderr",
     "output_type": "stream",
     "text": [
      "                                                                                \r"
     ]
    }
   ],
   "source": [
    "spark.sql(\"\"\"\n",
    "SELECT\n",
    "    COUNT(1) cnt,\n",
    "    dispatching_base_num \n",
    "FROM \n",
    "    fhvhv_data\n",
    "GROUP BY\n",
    "    dispatching_base_num\n",
    "ORDER BY\n",
    "    cnt DESC\n",
    "\"\"\").show()"
   ]
  },
  {
   "cell_type": "code",
   "execution_count": 30,
   "id": "9fe89daf-32a9-4590-9e34-662653e27da8",
   "metadata": {},
   "outputs": [],
   "source": [
    "df_zones = spark.read.parquet('zones')"
   ]
  },
  {
   "cell_type": "code",
   "execution_count": 32,
   "id": "d2f5b012-b2d8-46c9-8b49-860a5464b25d",
   "metadata": {},
   "outputs": [
    {
     "data": {
      "text/plain": [
       "Row(LocationID='1', Borough='EWR', Zone='Newark Airport', service_zone='EWR')"
      ]
     },
     "execution_count": 32,
     "metadata": {},
     "output_type": "execute_result"
    }
   ],
   "source": [
    "df_zones.head()"
   ]
  },
  {
   "cell_type": "code",
   "execution_count": 33,
   "id": "24bf0765-07ea-4c00-90ba-5bb0494b1d99",
   "metadata": {},
   "outputs": [],
   "source": [
    "df_pickup_locations = df_zones.withColumnRenamed('Zone','pickup_Zone')"
   ]
  },
  {
   "cell_type": "code",
   "execution_count": 34,
   "id": "1820f009-7928-4038-8af1-c1541e894ca7",
   "metadata": {},
   "outputs": [],
   "source": [
    "df_dropoff_locations = df_zones.withColumnRenamed('Zone','dropoff_Zone')"
   ]
  },
  {
   "cell_type": "code",
   "execution_count": 36,
   "id": "983a839f-f76f-478c-909c-2a33f68a7e06",
   "metadata": {},
   "outputs": [],
   "source": [
    "df_fhvhv_zoned = df\\\n",
    "    .join(df_pickup_locations, df.PULocationID==df_pickup_locations.LocationID)\\\n",
    "    .join(df_dropoff_locations, df.DOLocationID==df_dropoff_locations.LocationID)"
   ]
  },
  {
   "cell_type": "code",
   "execution_count": 38,
   "id": "8c568fde-c77c-4614-b45a-f24b0c30c5d8",
   "metadata": {},
   "outputs": [
    {
     "name": "stderr",
     "output_type": "stream",
     "text": [
      "[Stage 52:================================================>         (5 + 1) / 6]\r"
     ]
    },
    {
     "name": "stdout",
     "output_type": "stream",
     "text": [
      "+-----------------+--------------------+-------------------+-------------------+------------+------------+-------+----------+---------+--------------------+------------+----------+---------+--------------------+------------+\n",
      "|hvfhs_license_num|dispatching_base_num|    pickup_datetime|   dropoff_datetime|PULocationID|DOLocationID|SR_Flag|LocationID|  Borough|         pickup_Zone|service_zone|LocationID|  Borough|        dropoff_Zone|service_zone|\n",
      "+-----------------+--------------------+-------------------+-------------------+------------+------------+-------+----------+---------+--------------------+------------+----------+---------+--------------------+------------+\n",
      "|           HV0003|              B02877|2021-02-02 07:20:04|2021-02-02 07:29:56|          87|         249|   null|        87|Manhattan|Financial Distric...| Yellow Zone|       249|Manhattan|        West Village| Yellow Zone|\n",
      "|           HV0005|              B02510|2021-02-05 22:31:58|2021-02-05 22:45:26|         241|         235|   null|       241|    Bronx|Van Cortlandt Vil...|   Boro Zone|       235|    Bronx|University Height...|   Boro Zone|\n",
      "|           HV0005|              B02510|2021-02-05 06:28:46|2021-02-05 06:38:55|         143|         238|   null|       143|Manhattan| Lincoln Square West| Yellow Zone|       238|Manhattan|Upper West Side N...| Yellow Zone|\n",
      "|           HV0005|              B02510|2021-02-04 19:23:40|2021-02-04 19:31:09|          89|          89|   null|        89| Brooklyn|Flatbush/Ditmas Park|   Boro Zone|        89| Brooklyn|Flatbush/Ditmas Park|   Boro Zone|\n",
      "|           HV0004|              B02800|2021-02-02 14:47:59|2021-02-02 15:02:03|         143|          43|   null|       143|Manhattan| Lincoln Square West| Yellow Zone|        43|Manhattan|        Central Park| Yellow Zone|\n",
      "|           HV0003|              B02866|2021-02-04 09:50:59|2021-02-04 10:22:22|         256|         163|   null|       256| Brooklyn|Williamsburg (Sou...|   Boro Zone|       163|Manhattan|       Midtown North| Yellow Zone|\n",
      "|           HV0005|              B02510|2021-02-02 12:53:41|2021-02-02 13:05:42|         107|         161|   null|       107|Manhattan|            Gramercy| Yellow Zone|       161|Manhattan|      Midtown Center| Yellow Zone|\n",
      "|           HV0005|              B02510|2021-02-06 17:24:23|2021-02-06 17:51:24|          79|          14|   null|        79|Manhattan|        East Village| Yellow Zone|        14| Brooklyn|           Bay Ridge|   Boro Zone|\n",
      "|           HV0005|              B02510|2021-02-03 13:46:16|2021-02-03 14:03:55|          17|          61|   null|        17| Brooklyn|             Bedford|   Boro Zone|        61| Brooklyn| Crown Heights North|   Boro Zone|\n",
      "|           HV0003|              B02887|2021-02-04 11:00:59|2021-02-04 11:06:57|         112|         112|   null|       112| Brooklyn|          Greenpoint|   Boro Zone|       112| Brooklyn|          Greenpoint|   Boro Zone|\n",
      "|           HV0003|              B02836|2021-02-06 16:45:16|2021-02-06 16:53:30|          92|         171|   null|        92|   Queens|            Flushing|   Boro Zone|       171|   Queens|  Murray Hill-Queens|   Boro Zone|\n",
      "|           HV0003|              B02866|2021-02-03 09:53:36|2021-02-03 10:13:28|         130|         191|   null|       130|   Queens|             Jamaica|   Boro Zone|       191|   Queens|      Queens Village|   Boro Zone|\n",
      "|           HV0003|              B02764|2021-02-03 09:14:37|2021-02-03 09:37:45|          87|         228|   null|        87|Manhattan|Financial Distric...| Yellow Zone|       228| Brooklyn|    Sunset Park West|   Boro Zone|\n",
      "|           HV0003|              B02764|2021-02-02 05:47:03|2021-02-02 06:00:47|         112|         186|   null|       112| Brooklyn|          Greenpoint|   Boro Zone|       186|Manhattan|Penn Station/Madi...| Yellow Zone|\n",
      "|           HV0005|              B02510|2021-02-05 06:40:02|2021-02-05 06:49:11|         182|         208|   null|       182|    Bronx|         Parkchester|   Boro Zone|       208|    Bronx|Schuylerville/Edg...|   Boro Zone|\n",
      "|           HV0003|              B02875|2021-02-03 09:33:44|2021-02-03 09:56:00|           7|         196|   null|         7|   Queens|             Astoria|   Boro Zone|       196|   Queens|           Rego Park|   Boro Zone|\n",
      "|           HV0003|              B02872|2021-02-06 08:44:57|2021-02-06 08:57:20|          61|          71|   null|        61| Brooklyn| Crown Heights North|   Boro Zone|        71| Brooklyn|East Flatbush/Far...|   Boro Zone|\n",
      "|           HV0003|              B02887|2021-02-02 09:29:59|2021-02-02 09:36:12|          91|          39|   null|        91| Brooklyn|           Flatlands|   Boro Zone|        39| Brooklyn|            Canarsie|   Boro Zone|\n",
      "|           HV0005|              B02510|2021-02-05 12:08:53|2021-02-05 12:29:02|         112|          40|   null|       112| Brooklyn|          Greenpoint|   Boro Zone|        40| Brooklyn|     Carroll Gardens|   Boro Zone|\n",
      "|           HV0003|              B02764|2021-02-03 23:20:19|2021-02-03 23:30:13|         174|         248|   null|       174|    Bronx|             Norwood|   Boro Zone|       248|    Bronx|West Farms/Bronx ...|   Boro Zone|\n",
      "+-----------------+--------------------+-------------------+-------------------+------------+------------+-------+----------+---------+--------------------+------------+----------+---------+--------------------+------------+\n",
      "only showing top 20 rows\n",
      "\n"
     ]
    },
    {
     "name": "stderr",
     "output_type": "stream",
     "text": [
      "                                                                                \r"
     ]
    }
   ],
   "source": [
    "df_fhvhv_zoned.show()"
   ]
  },
  {
   "cell_type": "code",
   "execution_count": 39,
   "id": "f54ce2aa-9e05-4c15-a47a-dd9721830bff",
   "metadata": {},
   "outputs": [],
   "source": [
    "from pyspark.sql import functions as F"
   ]
  },
  {
   "cell_type": "code",
   "execution_count": 41,
   "id": "c4a06089-7530-4781-b3ef-416204b63265",
   "metadata": {},
   "outputs": [],
   "source": [
    "df_fhvhv_zoned = df_fhvhv_zoned\\\n",
    "    .withColumn('LocationPair',F.concat(F.col('pickup_Zone'),F.lit('/'),F.col('dropoff_Zone')))"
   ]
  },
  {
   "cell_type": "code",
   "execution_count": 43,
   "id": "3f8f8150-fd80-4e0e-82ba-1a5131885a16",
   "metadata": {},
   "outputs": [
    {
     "name": "stderr",
     "output_type": "stream",
     "text": [
      "[Stage 56:================================================>         (5 + 1) / 6]\r"
     ]
    },
    {
     "name": "stdout",
     "output_type": "stream",
     "text": [
      "+-----------------+--------------------+-------------------+-------------------+------------+------------+-------+----------+---------+--------------------+------------+----------+---------+--------------------+------------+--------------------+\n",
      "|hvfhs_license_num|dispatching_base_num|    pickup_datetime|   dropoff_datetime|PULocationID|DOLocationID|SR_Flag|LocationID|  Borough|         pickup_Zone|service_zone|LocationID|  Borough|        dropoff_Zone|service_zone|        LocationPair|\n",
      "+-----------------+--------------------+-------------------+-------------------+------------+------------+-------+----------+---------+--------------------+------------+----------+---------+--------------------+------------+--------------------+\n",
      "|           HV0003|              B02877|2021-02-02 07:20:04|2021-02-02 07:29:56|          87|         249|   null|        87|Manhattan|Financial Distric...| Yellow Zone|       249|Manhattan|        West Village| Yellow Zone|Financial Distric...|\n",
      "|           HV0005|              B02510|2021-02-05 22:31:58|2021-02-05 22:45:26|         241|         235|   null|       241|    Bronx|Van Cortlandt Vil...|   Boro Zone|       235|    Bronx|University Height...|   Boro Zone|Van Cortlandt Vil...|\n",
      "|           HV0005|              B02510|2021-02-05 06:28:46|2021-02-05 06:38:55|         143|         238|   null|       143|Manhattan| Lincoln Square West| Yellow Zone|       238|Manhattan|Upper West Side N...| Yellow Zone|Lincoln Square We...|\n",
      "|           HV0005|              B02510|2021-02-04 19:23:40|2021-02-04 19:31:09|          89|          89|   null|        89| Brooklyn|Flatbush/Ditmas Park|   Boro Zone|        89| Brooklyn|Flatbush/Ditmas Park|   Boro Zone|Flatbush/Ditmas P...|\n",
      "|           HV0004|              B02800|2021-02-02 14:47:59|2021-02-02 15:02:03|         143|          43|   null|       143|Manhattan| Lincoln Square West| Yellow Zone|        43|Manhattan|        Central Park| Yellow Zone|Lincoln Square We...|\n",
      "|           HV0003|              B02866|2021-02-04 09:50:59|2021-02-04 10:22:22|         256|         163|   null|       256| Brooklyn|Williamsburg (Sou...|   Boro Zone|       163|Manhattan|       Midtown North| Yellow Zone|Williamsburg (Sou...|\n",
      "|           HV0005|              B02510|2021-02-02 12:53:41|2021-02-02 13:05:42|         107|         161|   null|       107|Manhattan|            Gramercy| Yellow Zone|       161|Manhattan|      Midtown Center| Yellow Zone|Gramercy/Midtown ...|\n",
      "|           HV0005|              B02510|2021-02-06 17:24:23|2021-02-06 17:51:24|          79|          14|   null|        79|Manhattan|        East Village| Yellow Zone|        14| Brooklyn|           Bay Ridge|   Boro Zone|East Village/Bay ...|\n",
      "|           HV0005|              B02510|2021-02-03 13:46:16|2021-02-03 14:03:55|          17|          61|   null|        17| Brooklyn|             Bedford|   Boro Zone|        61| Brooklyn| Crown Heights North|   Boro Zone|Bedford/Crown Hei...|\n",
      "|           HV0003|              B02887|2021-02-04 11:00:59|2021-02-04 11:06:57|         112|         112|   null|       112| Brooklyn|          Greenpoint|   Boro Zone|       112| Brooklyn|          Greenpoint|   Boro Zone|Greenpoint/Greenp...|\n",
      "|           HV0003|              B02836|2021-02-06 16:45:16|2021-02-06 16:53:30|          92|         171|   null|        92|   Queens|            Flushing|   Boro Zone|       171|   Queens|  Murray Hill-Queens|   Boro Zone|Flushing/Murray H...|\n",
      "|           HV0003|              B02866|2021-02-03 09:53:36|2021-02-03 10:13:28|         130|         191|   null|       130|   Queens|             Jamaica|   Boro Zone|       191|   Queens|      Queens Village|   Boro Zone|Jamaica/Queens Vi...|\n",
      "|           HV0003|              B02764|2021-02-03 09:14:37|2021-02-03 09:37:45|          87|         228|   null|        87|Manhattan|Financial Distric...| Yellow Zone|       228| Brooklyn|    Sunset Park West|   Boro Zone|Financial Distric...|\n",
      "|           HV0003|              B02764|2021-02-02 05:47:03|2021-02-02 06:00:47|         112|         186|   null|       112| Brooklyn|          Greenpoint|   Boro Zone|       186|Manhattan|Penn Station/Madi...| Yellow Zone|Greenpoint/Penn S...|\n",
      "|           HV0005|              B02510|2021-02-05 06:40:02|2021-02-05 06:49:11|         182|         208|   null|       182|    Bronx|         Parkchester|   Boro Zone|       208|    Bronx|Schuylerville/Edg...|   Boro Zone|Parkchester/Schuy...|\n",
      "|           HV0003|              B02875|2021-02-03 09:33:44|2021-02-03 09:56:00|           7|         196|   null|         7|   Queens|             Astoria|   Boro Zone|       196|   Queens|           Rego Park|   Boro Zone|   Astoria/Rego Park|\n",
      "|           HV0003|              B02872|2021-02-06 08:44:57|2021-02-06 08:57:20|          61|          71|   null|        61| Brooklyn| Crown Heights North|   Boro Zone|        71| Brooklyn|East Flatbush/Far...|   Boro Zone|Crown Heights Nor...|\n",
      "|           HV0003|              B02887|2021-02-02 09:29:59|2021-02-02 09:36:12|          91|          39|   null|        91| Brooklyn|           Flatlands|   Boro Zone|        39| Brooklyn|            Canarsie|   Boro Zone|  Flatlands/Canarsie|\n",
      "|           HV0005|              B02510|2021-02-05 12:08:53|2021-02-05 12:29:02|         112|          40|   null|       112| Brooklyn|          Greenpoint|   Boro Zone|        40| Brooklyn|     Carroll Gardens|   Boro Zone|Greenpoint/Carrol...|\n",
      "|           HV0003|              B02764|2021-02-03 23:20:19|2021-02-03 23:30:13|         174|         248|   null|       174|    Bronx|             Norwood|   Boro Zone|       248|    Bronx|West Farms/Bronx ...|   Boro Zone|Norwood/West Farm...|\n",
      "+-----------------+--------------------+-------------------+-------------------+------------+------------+-------+----------+---------+--------------------+------------+----------+---------+--------------------+------------+--------------------+\n",
      "only showing top 20 rows\n",
      "\n"
     ]
    },
    {
     "name": "stderr",
     "output_type": "stream",
     "text": [
      "                                                                                \r"
     ]
    }
   ],
   "source": [
    "df_fhvhv_zoned.show()"
   ]
  },
  {
   "cell_type": "code",
   "execution_count": 49,
   "id": "f6ded4ed-4cb6-4d9c-80f5-798f9fb5a9a9",
   "metadata": {},
   "outputs": [],
   "source": [
    "pd.set_option('display.max_colwidth', None)"
   ]
  },
  {
   "cell_type": "code",
   "execution_count": 51,
   "id": "07779b9f-6266-4864-95ae-2303d25199ad",
   "metadata": {},
   "outputs": [
    {
     "name": "stderr",
     "output_type": "stream",
     "text": [
      "[Stage 84:=================================================>      (21 + 3) / 24]\r"
     ]
    },
    {
     "name": "stdout",
     "output_type": "stream",
     "text": [
      "+-----------------------------------------+-----+\n",
      "|LocationPair                             |count|\n",
      "+-----------------------------------------+-----+\n",
      "|East New York/East New York              |45041|\n",
      "|Borough Park/Borough Park                |37329|\n",
      "|Canarsie/Canarsie                        |28026|\n",
      "|Crown Heights North/Crown Heights North  |25976|\n",
      "|Bay Ridge/Bay Ridge                      |17934|\n",
      "|Jackson Heights/Jackson Heights          |14688|\n",
      "|Astoria/Astoria                          |14688|\n",
      "|Central Harlem North/Central Harlem North|14481|\n",
      "|Bushwick South/Bushwick South            |14424|\n",
      "|Flatbush/Ditmas Park/Flatbush/Ditmas Park|13976|\n",
      "+-----------------------------------------+-----+\n",
      "only showing top 10 rows\n",
      "\n"
     ]
    },
    {
     "name": "stderr",
     "output_type": "stream",
     "text": [
      "                                                                                \r"
     ]
    }
   ],
   "source": [
    "df_fhvhv_zoned.groupBy('LocationPair').count().orderBy(\"count\",ascending=False).show(10,False)"
   ]
  }
 ],
 "metadata": {
  "kernelspec": {
   "display_name": "Python 3 (ipykernel)",
   "language": "python",
   "name": "python3"
  },
  "language_info": {
   "codemirror_mode": {
    "name": "ipython",
    "version": 3
   },
   "file_extension": ".py",
   "mimetype": "text/x-python",
   "name": "python",
   "nbconvert_exporter": "python",
   "pygments_lexer": "ipython3",
   "version": "3.8.10"
  }
 },
 "nbformat": 4,
 "nbformat_minor": 5
}
